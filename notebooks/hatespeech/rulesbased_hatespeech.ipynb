{
 "cells": [
  {
   "cell_type": "code",
   "execution_count": null,
   "metadata": {
    "collapsed": true,
    "pycharm": {
     "is_executing": true
    }
   },
   "outputs": [
    {
     "name": "stdout",
     "text": [
      "(10475,)\n(10475,)\n",
      "                                                      j Polarity  Coverage  \\\ndick or synonym                                       0        1  0.007446   \nrapeglish                                             1        1  0.006587   \nslut or synonym                                       2        1  0.036659   \nnot sexist                                            3        1  0.000286   \nnot sexist hashtag                                    4        1  0.019857   \nfeminazi                                              5        1  0.073222   \ncunt or synonym                                       6        1  0.014415   \ncamel toe                                             7        1  0.004010   \ndyke or synonym                                       8        1  0.009737   \n^(?=.*\\brape\\b)(?=.*\\bwhore\\b).*$                     9       []  0.000000   \n^(?=.*\\brape\\b)(?=.*\\bwomen\\b).*$                    10        1  0.001146   \n^(?=.*\\brape\\b)(?=.*\\bslut\\b).*$                     11        1  0.000095   \n^(?=.*\\brape\\b)(?=.*\\bgirl\\b).*$                     12        1  0.000191   \n^(?=.*\\bfuck\\b)(?=.*\\bwhore\\b).*$                    13        1  0.000382   \n^(?=.*\\bfuck\\b)(?=.*\\bwomen\\b).*$                    14        1  0.000764   \n^(?=.*\\bfuck\\b)(?=.*\\bslut\\b).*$                     15        1  0.000286   \n^(?=.*\\bfuck\\b)(?=.*\\bgirl\\b).*$                     16        1  0.000477   \n^(?=.*\\bwhores?\\b)(?=.*\\bcant\\b)(?=.* \\bdrive\\b...   17       []  0.000000   \n^(?=.*\\bwomen\\b)(?=.*\\bcant\\b)(?=.* \\bdrive\\b).*$    18        1  0.000764   \n^(?=.*\\bsluts?\\b)(?=.*\\bcant\\b)(?=.* \\bdrive\\b).*$   19       []  0.000000   \n^(?=.*\\bgirls?\\b)(?=.*\\bcant\\b)(?=.* \\bdrive\\b).*$   20        1  0.000286   \n^(?=.*\\bbitches?\\b)(?=.*\\bcant\\b)(?=.* \\bdrive\\...   21        1  0.000095   \n^(?=.*\\bwhores?\\b)(?=.*\\bcannot\\b)(?=.* \\bdrive...   22       []  0.000000   \n^(?=.*\\bwomen\\b)(?=.*\\bcannot\\b)(?=.* \\bdrive\\b...   23        1  0.000668   \n^(?=.*\\bsluts?\\b)(?=.*\\bcannot\\b)(?=.* \\bdrive\\...   24       []  0.000000   \n^(?=.*\\bgirls?\\b)(?=.*\\bcannot\\b)(?=.* \\bdrive\\...   25       []  0.000000   \n^(?=.*\\bbitches?\\b)(?=.*\\bcannot\\b)(?=.* \\bdriv...   26        1  0.000095   \n^(?=.*\\bwhores?\\b)(?=.*\\bshouldnt\\b)(?=.* \\bdri...   27       []  0.000000   \n^(?=.*\\bwomen\\b)(?=.*\\bshouldnt\\b)(?=.* \\bdrive...   28       []  0.000000   \n^(?=.*\\bsluts?\\b)(?=.*\\bshouldnt\\b)(?=.* \\bdriv...   29       []  0.000000   \n...                                                 ...      ...       ...   \n^(?=.*\\bwomen\\b)(?=.*\\bcannot\\b)(?=.* \\bdo math...  113       []  0.000000   \n^(?=.*\\bsluts?\\b)(?=.*\\bcannot\\b)(?=.* \\bdo mat...  114       []  0.000000   \n^(?=.*\\bgirls?\\b)(?=.*\\bcannot\\b)(?=.* \\bdo mat...  115       []  0.000000   \n^(?=.*\\bbitches?\\b)(?=.*\\bcannot\\b)(?=.* \\bdo m...  116       []  0.000000   \n^(?=.*\\bwhores?\\b)(?=.*\\bshouldnt\\b)(?=.* \\bdo ...  117       []  0.000000   \n^(?=.*\\bwomen\\b)(?=.*\\bshouldnt\\b)(?=.* \\bdo ma...  118       []  0.000000   \n^(?=.*\\bsluts?\\b)(?=.*\\bshouldnt\\b)(?=.* \\bdo m...  119       []  0.000000   \n^(?=.*\\bgirls?\\b)(?=.*\\bshouldnt\\b)(?=.* \\bdo m...  120       []  0.000000   \n^(?=.*\\bbitches?\\b)(?=.*\\bshouldnt\\b)(?=.* \\bdo...  121       []  0.000000   \n^(?=.*\\bdumb\\b)(?=.*\\bbitch\\b).*$                   122        1  0.001337   \n^(?=.*\\bdumb\\b)(?=.*\\bcunt\\b).*$                    123        1  0.000095   \n^(?=.*\\bdumb\\b)(?=.*\\bwhore\\b).*$                   124        1  0.000573   \n^(?=.*\\bfucking\\b)(?=.*\\bbitch\\b).*$                125        1  0.007351   \n^(?=.*\\bfucking\\b)(?=.*\\bcunt\\b).*$                 126        1  0.000573   \n^(?=.*\\bfucking\\b)(?=.*\\bwhore\\b).*$                127        1  0.003914   \n^(?=.*\\bstupid\\b)(?=.*\\bbitch\\b).*$                 128        1  0.000668   \n^(?=.*\\bstupid\\b)(?=.*\\bcunt\\b).*$                  129        1  0.000095   \n^(?=.*\\bstupid\\b)(?=.*\\bwhore\\b).*$                 130        1  0.000382   \n^(?=.*\\bgreedy\\b)(?=.*\\bbitch\\b).*$                 131       []  0.000000   \n^(?=.*\\bgreedy\\b)(?=.*\\bcunt\\b).*$                  132       []  0.000000   \n^(?=.*\\bgreedy\\b)(?=.*\\bwhore\\b).*$                 133       []  0.000000   \n^(?=.*\\bfuck\\b)(?=.*\\bbitch\\b).*$                   134        1  0.004105   \n^(?=.*\\bfuck\\b)(?=.*\\bcunt\\b).*$                    135        1  0.000095   \n^(?=.*\\bfuck\\b)(?=.*\\bwhore\\b).*$                   136        1  0.000382   \n^(?=.*\\bdumbest\\b)(?=.*\\bbitch\\b).*$                137        1  0.000095   \n^(?=.*\\bdumbest\\b)(?=.*\\bcunt\\b).*$                 138       []  0.000000   \n^(?=.*\\bdumbest\\b)(?=.*\\bwhore\\b).*$                139       []  0.000000   \n^(?=.*\\blying\\b)(?=.*\\bbitch\\b).*$                  140        1  0.000668   \n^(?=.*\\blying\\b)(?=.*\\bcunt\\b).*$                   141        1  0.000095   \n^(?=.*\\blying\\b)(?=.*\\bwhore\\b).*$                  142       []  0.000000   \n\n                                                    Overlaps  Conflicts  \\\ndick or synonym                                     0.002196        0.0   \nrapeglish                                           0.006587        0.0   \nslut or synonym                                     0.014797        0.0   \nnot sexist                                          0.000000        0.0   \nnot sexist hashtag                                  0.000573        0.0   \nfeminazi                                            0.004678        0.0   \ncunt or synonym                                     0.003532        0.0   \ncamel toe                                           0.000095        0.0   \ndyke or synonym                                     0.001527        0.0   \n^(?=.*\\brape\\b)(?=.*\\bwhore\\b).*$                   0.000000        0.0   \n^(?=.*\\brape\\b)(?=.*\\bwomen\\b).*$                   0.000286        0.0   \n^(?=.*\\brape\\b)(?=.*\\bslut\\b).*$                    0.000095        0.0   \n^(?=.*\\brape\\b)(?=.*\\bgirl\\b).*$                    0.000000        0.0   \n^(?=.*\\bfuck\\b)(?=.*\\bwhore\\b).*$                   0.000382        0.0   \n^(?=.*\\bfuck\\b)(?=.*\\bwomen\\b).*$                   0.000286        0.0   \n^(?=.*\\bfuck\\b)(?=.*\\bslut\\b).*$                    0.000286        0.0   \n^(?=.*\\bfuck\\b)(?=.*\\bgirl\\b).*$                    0.000286        0.0   \n^(?=.*\\bwhores?\\b)(?=.*\\bcant\\b)(?=.* \\bdrive\\b...  0.000000        0.0   \n^(?=.*\\bwomen\\b)(?=.*\\bcant\\b)(?=.* \\bdrive\\b).*$   0.000191        0.0   \n^(?=.*\\bsluts?\\b)(?=.*\\bcant\\b)(?=.* \\bdrive\\b).*$  0.000000        0.0   \n^(?=.*\\bgirls?\\b)(?=.*\\bcant\\b)(?=.* \\bdrive\\b).*$  0.000095        0.0   \n^(?=.*\\bbitches?\\b)(?=.*\\bcant\\b)(?=.* \\bdrive\\...  0.000000        0.0   \n^(?=.*\\bwhores?\\b)(?=.*\\bcannot\\b)(?=.* \\bdrive...  0.000000        0.0   \n^(?=.*\\bwomen\\b)(?=.*\\bcannot\\b)(?=.* \\bdrive\\b...  0.000191        0.0   \n^(?=.*\\bsluts?\\b)(?=.*\\bcannot\\b)(?=.* \\bdrive\\...  0.000000        0.0   \n^(?=.*\\bgirls?\\b)(?=.*\\bcannot\\b)(?=.* \\bdrive\\...  0.000000        0.0   \n^(?=.*\\bbitches?\\b)(?=.*\\bcannot\\b)(?=.* \\bdriv...  0.000000        0.0   \n^(?=.*\\bwhores?\\b)(?=.*\\bshouldnt\\b)(?=.* \\bdri...  0.000000        0.0   \n^(?=.*\\bwomen\\b)(?=.*\\bshouldnt\\b)(?=.* \\bdrive...  0.000000        0.0   \n^(?=.*\\bsluts?\\b)(?=.*\\bshouldnt\\b)(?=.* \\bdriv...  0.000000        0.0   \n...                                                      ...        ...   \n^(?=.*\\bwomen\\b)(?=.*\\bcannot\\b)(?=.* \\bdo math...  0.000000        0.0   \n^(?=.*\\bsluts?\\b)(?=.*\\bcannot\\b)(?=.* \\bdo mat...  0.000000        0.0   \n^(?=.*\\bgirls?\\b)(?=.*\\bcannot\\b)(?=.* \\bdo mat...  0.000000        0.0   \n^(?=.*\\bbitches?\\b)(?=.*\\bcannot\\b)(?=.* \\bdo m...  0.000000        0.0   \n^(?=.*\\bwhores?\\b)(?=.*\\bshouldnt\\b)(?=.* \\bdo ...  0.000000        0.0   \n^(?=.*\\bwomen\\b)(?=.*\\bshouldnt\\b)(?=.* \\bdo ma...  0.000000        0.0   \n^(?=.*\\bsluts?\\b)(?=.*\\bshouldnt\\b)(?=.* \\bdo m...  0.000000        0.0   \n^(?=.*\\bgirls?\\b)(?=.*\\bshouldnt\\b)(?=.* \\bdo m...  0.000000        0.0   \n^(?=.*\\bbitches?\\b)(?=.*\\bshouldnt\\b)(?=.* \\bdo...  0.000000        0.0   \n^(?=.*\\bdumb\\b)(?=.*\\bbitch\\b).*$                   0.000573        0.0   \n^(?=.*\\bdumb\\b)(?=.*\\bcunt\\b).*$                    0.000095        0.0   \n^(?=.*\\bdumb\\b)(?=.*\\bwhore\\b).*$                   0.000573        0.0   \n^(?=.*\\bfucking\\b)(?=.*\\bbitch\\b).*$                0.001814        0.0   \n^(?=.*\\bfucking\\b)(?=.*\\bcunt\\b).*$                 0.000573        0.0   \n^(?=.*\\bfucking\\b)(?=.*\\bwhore\\b).*$                0.003914        0.0   \n^(?=.*\\bstupid\\b)(?=.*\\bbitch\\b).*$                 0.000286        0.0   \n^(?=.*\\bstupid\\b)(?=.*\\bcunt\\b).*$                  0.000095        0.0   \n^(?=.*\\bstupid\\b)(?=.*\\bwhore\\b).*$                 0.000382        0.0   \n^(?=.*\\bgreedy\\b)(?=.*\\bbitch\\b).*$                 0.000000        0.0   \n^(?=.*\\bgreedy\\b)(?=.*\\bcunt\\b).*$                  0.000000        0.0   \n^(?=.*\\bgreedy\\b)(?=.*\\bwhore\\b).*$                 0.000000        0.0   \n^(?=.*\\bfuck\\b)(?=.*\\bbitch\\b).*$                   0.001241        0.0   \n^(?=.*\\bfuck\\b)(?=.*\\bcunt\\b).*$                    0.000095        0.0   \n^(?=.*\\bfuck\\b)(?=.*\\bwhore\\b).*$                   0.000382        0.0   \n^(?=.*\\bdumbest\\b)(?=.*\\bbitch\\b).*$                0.000000        0.0   \n^(?=.*\\bdumbest\\b)(?=.*\\bcunt\\b).*$                 0.000000        0.0   \n^(?=.*\\bdumbest\\b)(?=.*\\bwhore\\b).*$                0.000000        0.0   \n^(?=.*\\blying\\b)(?=.*\\bbitch\\b).*$                  0.000191        0.0   \n^(?=.*\\blying\\b)(?=.*\\bcunt\\b).*$                   0.000095        0.0   \n^(?=.*\\blying\\b)(?=.*\\bwhore\\b).*$                  0.000000        0.0   \n\n                                                    Correct  Incorrect  \\\ndick or synonym                                          44          0   \nrapeglish                                                44          0   \nslut or synonym                                         235          0   \nnot sexist                                                3          0   \nnot sexist hashtag                                      207          0   \nfeminazi                                                678          0   \ncunt or synonym                                         117          0   \ncamel toe                                                29          0   \ndyke or synonym                                          45          0   \n^(?=.*\\brape\\b)(?=.*\\bwhore\\b).*$                         0          0   \n^(?=.*\\brape\\b)(?=.*\\bwomen\\b).*$                         6          0   \n^(?=.*\\brape\\b)(?=.*\\bslut\\b).*$                          1          0   \n^(?=.*\\brape\\b)(?=.*\\bgirl\\b).*$                          1          0   \n^(?=.*\\bfuck\\b)(?=.*\\bwhore\\b).*$                         3          0   \n^(?=.*\\bfuck\\b)(?=.*\\bwomen\\b).*$                         6          0   \n^(?=.*\\bfuck\\b)(?=.*\\bslut\\b).*$                          3          0   \n^(?=.*\\bfuck\\b)(?=.*\\bgirl\\b).*$                          5          0   \n^(?=.*\\bwhores?\\b)(?=.*\\bcant\\b)(?=.* \\bdrive\\b...        0          0   \n^(?=.*\\bwomen\\b)(?=.*\\bcant\\b)(?=.* \\bdrive\\b).*$         7          0   \n^(?=.*\\bsluts?\\b)(?=.*\\bcant\\b)(?=.* \\bdrive\\b).*$        0          0   \n^(?=.*\\bgirls?\\b)(?=.*\\bcant\\b)(?=.* \\bdrive\\b).*$        3          0   \n^(?=.*\\bbitches?\\b)(?=.*\\bcant\\b)(?=.* \\bdrive\\...        1          0   \n^(?=.*\\bwhores?\\b)(?=.*\\bcannot\\b)(?=.* \\bdrive...        0          0   \n^(?=.*\\bwomen\\b)(?=.*\\bcannot\\b)(?=.* \\bdrive\\b...        7          0   \n^(?=.*\\bsluts?\\b)(?=.*\\bcannot\\b)(?=.* \\bdrive\\...        0          0   \n^(?=.*\\bgirls?\\b)(?=.*\\bcannot\\b)(?=.* \\bdrive\\...        0          0   \n^(?=.*\\bbitches?\\b)(?=.*\\bcannot\\b)(?=.* \\bdriv...        1          0   \n^(?=.*\\bwhores?\\b)(?=.*\\bshouldnt\\b)(?=.* \\bdri...        0          0   \n^(?=.*\\bwomen\\b)(?=.*\\bshouldnt\\b)(?=.* \\bdrive...        0          0   \n^(?=.*\\bsluts?\\b)(?=.*\\bshouldnt\\b)(?=.* \\bdriv...        0          0   \n...                                                     ...        ...   \n^(?=.*\\bwomen\\b)(?=.*\\bcannot\\b)(?=.* \\bdo math...        0          0   \n^(?=.*\\bsluts?\\b)(?=.*\\bcannot\\b)(?=.* \\bdo mat...        0          0   \n^(?=.*\\bgirls?\\b)(?=.*\\bcannot\\b)(?=.* \\bdo mat...        0          0   \n^(?=.*\\bbitches?\\b)(?=.*\\bcannot\\b)(?=.* \\bdo m...        0          0   \n^(?=.*\\bwhores?\\b)(?=.*\\bshouldnt\\b)(?=.* \\bdo ...        0          0   \n^(?=.*\\bwomen\\b)(?=.*\\bshouldnt\\b)(?=.* \\bdo ma...        0          0   \n^(?=.*\\bsluts?\\b)(?=.*\\bshouldnt\\b)(?=.* \\bdo m...        0          0   \n^(?=.*\\bgirls?\\b)(?=.*\\bshouldnt\\b)(?=.* \\bdo m...        0          0   \n^(?=.*\\bbitches?\\b)(?=.*\\bshouldnt\\b)(?=.* \\bdo...        0          0   \n^(?=.*\\bdumb\\b)(?=.*\\bbitch\\b).*$                        12          0   \n^(?=.*\\bdumb\\b)(?=.*\\bcunt\\b).*$                          1          0   \n^(?=.*\\bdumb\\b)(?=.*\\bwhore\\b).*$                         5          0   \n^(?=.*\\bfucking\\b)(?=.*\\bbitch\\b).*$                     44          0   \n^(?=.*\\bfucking\\b)(?=.*\\bcunt\\b).*$                       4          0   \n^(?=.*\\bfucking\\b)(?=.*\\bwhore\\b).*$                     31          0   \n^(?=.*\\bstupid\\b)(?=.*\\bbitch\\b).*$                       7          0   \n^(?=.*\\bstupid\\b)(?=.*\\bcunt\\b).*$                        1          0   \n^(?=.*\\bstupid\\b)(?=.*\\bwhore\\b).*$                       2          0   \n^(?=.*\\bgreedy\\b)(?=.*\\bbitch\\b).*$                       0          0   \n^(?=.*\\bgreedy\\b)(?=.*\\bcunt\\b).*$                        0          0   \n^(?=.*\\bgreedy\\b)(?=.*\\bwhore\\b).*$                       0          0   \n^(?=.*\\bfuck\\b)(?=.*\\bbitch\\b).*$                        22          0   \n^(?=.*\\bfuck\\b)(?=.*\\bcunt\\b).*$                          1          0   \n^(?=.*\\bfuck\\b)(?=.*\\bwhore\\b).*$                         3          0   \n^(?=.*\\bdumbest\\b)(?=.*\\bbitch\\b).*$                      1          0   \n^(?=.*\\bdumbest\\b)(?=.*\\bcunt\\b).*$                       0          0   \n^(?=.*\\bdumbest\\b)(?=.*\\bwhore\\b).*$                      0          0   \n^(?=.*\\blying\\b)(?=.*\\bbitch\\b).*$                        4          0   \n^(?=.*\\blying\\b)(?=.*\\bcunt\\b).*$                         1          0   \n^(?=.*\\blying\\b)(?=.*\\bwhore\\b).*$                        0          0   \n\n                                                    Emp. Acc.  \ndick or synonym                                      0.564103  \nrapeglish                                            0.637681  \nslut or synonym                                      0.611979  \nnot sexist                                           1.000000  \nnot sexist hashtag                                   0.995192  \nfeminazi                                             0.883963  \ncunt or synonym                                      0.774834  \ncamel toe                                            0.690476  \ndyke or synonym                                      0.441176  \n^(?=.*\\brape\\b)(?=.*\\bwhore\\b).*$                         NaN  \n^(?=.*\\brape\\b)(?=.*\\bwomen\\b).*$                    0.500000  \n^(?=.*\\brape\\b)(?=.*\\bslut\\b).*$                     1.000000  \n^(?=.*\\brape\\b)(?=.*\\bgirl\\b).*$                     0.500000  \n^(?=.*\\bfuck\\b)(?=.*\\bwhore\\b).*$                    0.750000  \n^(?=.*\\bfuck\\b)(?=.*\\bwomen\\b).*$                    0.750000  \n^(?=.*\\bfuck\\b)(?=.*\\bslut\\b).*$                     1.000000  \n^(?=.*\\bfuck\\b)(?=.*\\bgirl\\b).*$                     1.000000  \n^(?=.*\\bwhores?\\b)(?=.*\\bcant\\b)(?=.* \\bdrive\\b...        NaN  \n^(?=.*\\bwomen\\b)(?=.*\\bcant\\b)(?=.* \\bdrive\\b).*$    0.875000  \n^(?=.*\\bsluts?\\b)(?=.*\\bcant\\b)(?=.* \\bdrive\\b).*$        NaN  \n^(?=.*\\bgirls?\\b)(?=.*\\bcant\\b)(?=.* \\bdrive\\b).*$   1.000000  \n^(?=.*\\bbitches?\\b)(?=.*\\bcant\\b)(?=.* \\bdrive\\...   1.000000  \n^(?=.*\\bwhores?\\b)(?=.*\\bcannot\\b)(?=.* \\bdrive...        NaN  \n^(?=.*\\bwomen\\b)(?=.*\\bcannot\\b)(?=.* \\bdrive\\b...   1.000000  \n^(?=.*\\bsluts?\\b)(?=.*\\bcannot\\b)(?=.* \\bdrive\\...        NaN  \n^(?=.*\\bgirls?\\b)(?=.*\\bcannot\\b)(?=.* \\bdrive\\...        NaN  \n^(?=.*\\bbitches?\\b)(?=.*\\bcannot\\b)(?=.* \\bdriv...   1.000000  \n^(?=.*\\bwhores?\\b)(?=.*\\bshouldnt\\b)(?=.* \\bdri...        NaN  \n^(?=.*\\bwomen\\b)(?=.*\\bshouldnt\\b)(?=.* \\bdrive...        NaN  \n^(?=.*\\bsluts?\\b)(?=.*\\bshouldnt\\b)(?=.* \\bdriv...        NaN  \n...                                                       ...  \n^(?=.*\\bwomen\\b)(?=.*\\bcannot\\b)(?=.* \\bdo math...        NaN  \n^(?=.*\\bsluts?\\b)(?=.*\\bcannot\\b)(?=.* \\bdo mat...        NaN  \n^(?=.*\\bgirls?\\b)(?=.*\\bcannot\\b)(?=.* \\bdo mat...        NaN  \n^(?=.*\\bbitches?\\b)(?=.*\\bcannot\\b)(?=.* \\bdo m...        NaN  \n^(?=.*\\bwhores?\\b)(?=.*\\bshouldnt\\b)(?=.* \\bdo ...        NaN  \n^(?=.*\\bwomen\\b)(?=.*\\bshouldnt\\b)(?=.* \\bdo ma...        NaN  \n^(?=.*\\bsluts?\\b)(?=.*\\bshouldnt\\b)(?=.* \\bdo m...        NaN  \n^(?=.*\\bgirls?\\b)(?=.*\\bshouldnt\\b)(?=.* \\bdo m...        NaN  \n^(?=.*\\bbitches?\\b)(?=.*\\bshouldnt\\b)(?=.* \\bdo...        NaN  \n^(?=.*\\bdumb\\b)(?=.*\\bbitch\\b).*$                    0.857143  \n^(?=.*\\bdumb\\b)(?=.*\\bcunt\\b).*$                     1.000000  \n^(?=.*\\bdumb\\b)(?=.*\\bwhore\\b).*$                    0.833333  \n^(?=.*\\bfucking\\b)(?=.*\\bbitch\\b).*$                 0.571429  \n^(?=.*\\bfucking\\b)(?=.*\\bcunt\\b).*$                  0.666667  \n^(?=.*\\bfucking\\b)(?=.*\\bwhore\\b).*$                 0.756098  \n^(?=.*\\bstupid\\b)(?=.*\\bbitch\\b).*$                  1.000000  \n^(?=.*\\bstupid\\b)(?=.*\\bcunt\\b).*$                   1.000000  \n^(?=.*\\bstupid\\b)(?=.*\\bwhore\\b).*$                  0.500000  \n^(?=.*\\bgreedy\\b)(?=.*\\bbitch\\b).*$                       NaN  \n^(?=.*\\bgreedy\\b)(?=.*\\bcunt\\b).*$                        NaN  \n^(?=.*\\bgreedy\\b)(?=.*\\bwhore\\b).*$                       NaN  \n^(?=.*\\bfuck\\b)(?=.*\\bbitch\\b).*$                    0.511628  \n^(?=.*\\bfuck\\b)(?=.*\\bcunt\\b).*$                     1.000000  \n^(?=.*\\bfuck\\b)(?=.*\\bwhore\\b).*$                    0.750000  \n^(?=.*\\bdumbest\\b)(?=.*\\bbitch\\b).*$                 1.000000  \n^(?=.*\\bdumbest\\b)(?=.*\\bcunt\\b).*$                       NaN  \n^(?=.*\\bdumbest\\b)(?=.*\\bwhore\\b).*$                      NaN  \n^(?=.*\\blying\\b)(?=.*\\bbitch\\b).*$                   0.571429  \n^(?=.*\\blying\\b)(?=.*\\bcunt\\b).*$                    1.000000  \n^(?=.*\\blying\\b)(?=.*\\bwhore\\b).*$                        NaN  \n\n[143 rows x 8 columns]\n"
     ],
     "output_type": "stream"
    },
    {
     "name": "stderr",
     "text": [
      "/home/tcake/coding_projects/python/opt_out/find-out/find-out/lib/python3.6/site-packages/metal/analysis.py:131: RuntimeWarning: invalid value encountered in true_divide\n  return 0.5 * (X.sum(axis=0) / (L != 0).sum(axis=0) + 1)\n"
     ],
     "output_type": "stream"
    }
   ],
   "source": [
    "import pandas as pd\n",
    "\n",
    "from src.evaluation.hatespeech.evaluation_rulesbased_hatespeech import analysis_of_weak_labeling\n",
    "\n",
    "from src.features.hatespeech.featureeng_rulesbased_hatespeech import contains_dick_or_synonym, \\\n",
    "    contains_fuck_whore_same_sentence, contains_sexualized_rapeglih_vocab, contains_slut_or_synonyms, \\\n",
    "    contains_not_sexist_hashtag, contains_not_sexist, contains_cunt_or_synonyms, contains_feminazi, contains_bitch_cunt, \\\n",
    "    contains_women_stereotypes, contains_camel_toe, contains_dyke_or_synonyms\n",
    "from src.utils.preprocess_text_pipelines import normalize\n",
    "\n",
    "data = pd.read_csv(\"../../data/external/hatespeech/hs_data.csv\")\n",
    "data['normalized'] = data['text'].apply(lambda comment: normalize(comment))\n",
    "\n",
    "# Generate vectors\n",
    "X = data['normalized']\n",
    "print(X.shape)\n",
    "\n",
    "# True labels\n",
    "Y = pd.get_dummies(data['annotation'])['misogynistic']\n",
    "print(Y.shape)\n",
    "\n",
    "labeling_functions = [\n",
    "    contains_dick_or_synonym,\n",
    "    contains_sexualized_rapeglih_vocab,\n",
    "    contains_slut_or_synonyms,\n",
    "    contains_not_sexist,\n",
    "    contains_not_sexist_hashtag,\n",
    "    contains_feminazi,\n",
    "    contains_cunt_or_synonyms,\n",
    "    contains_camel_toe,\n",
    "    contains_dyke_or_synonyms,\n",
    "\n",
    "]\n",
    "generator_labeling_functions = [\n",
    "    contains_fuck_whore_same_sentence,\n",
    "    contains_women_stereotypes,\n",
    "    contains_bitch_cunt,\n",
    "]\n",
    "labeling_function_names = [\n",
    "    \"dick or synonym\",\n",
    "    \"rapeglish\",\n",
    "    \"slut or synonym\",\n",
    "    \"not sexist\",\n",
    "    \"not sexist hashtag\",\n",
    "    \"feminazi\",\n",
    "    \"cunt or synonym\",\n",
    "    \"camel toe\",\n",
    "    \"dyke or synonym\"\n",
    "]\n",
    "\n",
    "analysis_of_weak_labeling(data[['normalized']], Y, labeling_functions, labeling_function_names, generator_labeling_functions)\n"
   ]
  }
 ],
 "metadata": {
  "language_info": {
   "codemirror_mode": {
    "name": "ipython",
    "version": 2
   },
   "file_extension": ".py",
   "mimetype": "text/x-python",
   "name": "python",
   "nbconvert_exporter": "python",
   "pygments_lexer": "ipython2",
   "version": "2.7.6"
  },
  "kernelspec": {
   "name": "pycharm-66275036",
   "language": "python",
   "display_name": "PyCharm (find-out)"
  },
  "pycharm": {
   "stem_cell": {
    "cell_type": "raw",
    "source": [],
    "metadata": {
     "collapsed": false
    }
   }
  }
 },
 "nbformat": 4,
 "nbformat_minor": 0
}
