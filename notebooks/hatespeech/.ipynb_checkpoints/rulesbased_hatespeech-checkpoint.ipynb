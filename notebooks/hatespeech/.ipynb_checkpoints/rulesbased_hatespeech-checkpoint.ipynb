{
 "cells": [
  {
   "cell_type": "code",
   "execution_count": null,
   "metadata": {
    "pycharm": {
     "is_executing": true,
     "name": "#%%\n"
    }
   },
   "outputs": [],
   "source": [
    "import pandas as pd\n",
    "import seaborn as sns\n",
    "from src.data.preprocess.hatespeech.preprocess_rulesbased_hatespeech import count_corpus_word_frequency\n",
    "from src.utils.normalize import normalize\n",
    "\n",
    "\n",
    "data = pd.read_csv(\"../../data/external/hatespeech/hs_data.csv\")\n",
    "\n",
    "\n",
    "data['normalized'] = data['text'].apply(normalize)\n",
    "counts = count_corpus_word_frequency(data['normalized'])\n",
    "# sns.set(style=\"whitegrid\")\n",
    "# ax = sns.barplot(x=\"word\", y=\"count\", data=counts)\n",
    "\n"
   ]
  },
  {
   "cell_type": "code",
   "execution_count": null,
   "metadata": {},
   "outputs": [],
   "source": []
  }
 ],
 "metadata": {
  "kernelspec": {
   "display_name": "PyCharm (find-out)",
   "language": "python",
   "name": "pycharm-66275036"
  },
  "pycharm": {
   "stem_cell": {
    "cell_type": "raw",
    "metadata": {
     "collapsed": false
    },
    "source": []
   }
  }
 },
 "nbformat": 4,
 "nbformat_minor": 1
}
