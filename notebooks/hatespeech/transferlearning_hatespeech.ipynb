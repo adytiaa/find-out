{
 "cells": [
  {
   "cell_type": "code",
   "execution_count": 1,
   "metadata": {
    "collapsed": true,
    "pycharm": {
     "is_executing": false
    }
   },
   "outputs": [
    {
     "name": "stderr",
     "text": [
      "Using TensorFlow backend.\n"
     ],
     "output_type": "stream"
    },
    {
     "name": "stdout",
     "text": [
      "Words in index: 22101\n\n Evaluation of model with ALL layers fine-tuned:\nWARNING:tensorflow:From /home/tcake/coding_projects/python/opt_out/find-out/find-out/lib/python3.6/site-packages/tensorflow/python/framework/op_def_library.py:263: colocate_with (from tensorflow.python.framework.ops) is deprecated and will be removed in a future version.\nInstructions for updating:\nColocations handled automatically by placer.\n",
      "WARNING:tensorflow:From /home/tcake/coding_projects/python/opt_out/find-out/find-out/lib/python3.6/site-packages/keras/backend/tensorflow_backend.py:3445: calling dropout (from tensorflow.python.ops.nn_ops) with keep_prob is deprecated and will be removed in a future version.\nInstructions for updating:\nPlease use `rate` instead of `keep_prob`. Rate should be set to `rate = 1 - keep_prob`.\n",
      "\r  32/2982 [..............................] - ETA: 3s",
      "\b\b\b\b\b\b\b\b\b\b\b\b\b\b\b\b\b\b\b\b\b\b\b\b\b\b\b\b\b\b\b\b\b\b\b\b\b\b\b\b\b\b\b\b\b\b\b\b\b\b\b\b\r1504/2982 [==============>...............] - ETA: 0s",
      "\b\b\b\b\b\b\b\b\b\b\b\b\b\b\b\b\b\b\b\b\b\b\b\b\b\b\b\b\b\b\b\b\b\b\b\b\b\b\b\b\b\b\b\b\b\b\b\b\b\b\b\b\r2400/2982 [=======================>......] - ETA: 0s",
      "\b\b\b\b\b\b\b\b\b\b\b\b\b\b\b\b\b\b\b\b\b\b\b\b\b\b\b\b\b\b\b\b\b\b\b\b\b\b\b\b\b\b\b\b\b\b\b\b\b\b\b\b\r2982/2982 [==============================] - 0s 60us/step\n",
      "acc: 87.42%, loss: 0.34\n",
      "Confusion matrix:\n[[2181  139]\n [ 236  426]]\nMarco F1:0.807606\nMicro F1:0.874245\nWeighted F1:0.870562\n11924    1\n11925    0\n11926    0\n11927    0\n11928    0\n11929    0\n11930    0\n11931    0\n11932    0\n11933    0\n11934    0\n11935    1\n11936    0\n11937    1\n11938    0\n11939    0\n11940    0\n11941    0\n11942    0\n11943    0\n11944    1\n11945    0\n11946    0\n11947    0\n11948    0\n11949    0\n11950    0\n11951    0\n11952    0\n11953    0\n        ..\n14876    1\n14877    0\n14878    1\n14879    0\n14880    0\n14881    0\n14882    1\n14883    0\n14884    0\n14885    0\n14886    1\n14887    1\n14888    0\n14889    0\n14890    0\n14891    0\n14892    0\n14893    0\n14894    0\n14895    0\n14896    1\n14897    0\n14898    0\n14899    0\n14900    0\n14901    0\n14902    0\n14903    0\n14904    1\n14905    0\nName: label, Length: 2982, dtype: int64 [0 0 0 ... 0 0 0]\n\n Evaluation of model with LAST layer fine-tuned:\n",
      "\r  32/2982 [..............................] - ETA: 4s",
      "\b\b\b\b\b\b\b\b\b\b\b\b\b\b\b\b\b\b\b\b\b\b\b\b\b\b\b\b\b\b\b\b\b\b\b\b\b\b\b\b\b\b\b\b\b\b\b\b\b\b\b\b\r 512/2982 [====>.........................] - ETA: 0s",
      "\b\b\b\b\b\b\b\b\b\b\b\b\b\b\b\b\b\b\b\b\b\b\b\b\b\b\b\b\b\b\b\b\b\b\b\b\b\b\b\b\b\b\b\b\b\b\b\b\b\b\b\b\r 864/2982 [=======>......................] - ETA: 0s",
      "\b\b\b\b\b\b\b\b\b\b\b\b\b\b\b\b\b\b\b\b\b\b\b\b\b\b\b\b\b\b\b\b\b\b\b\b\b\b\b\b\b\b\b\b\b\b\b\b\b\b\b\b\r1440/2982 [=============>................] - ETA: 0s",
      "\b\b\b\b\b\b\b\b\b\b\b\b\b\b\b\b\b\b\b\b\b\b\b\b\b\b\b\b\b\b\b\b\b\b\b\b\b\b\b\b\b\b\b\b\b\b\b\b\b\b\b\b\r1920/2982 [==================>...........] - ETA: 0s",
      "\b\b\b\b\b\b\b\b\b\b\b\b\b\b\b\b\b\b\b\b\b\b\b\b\b\b\b\b\b\b\b\b\b\b\b\b\b\b\b\b\b\b\b\b\b\b\b\b\b\b\b\b\r2560/2982 [========================>.....] - ETA: 0s",
      "\b\b\b\b\b\b\b\b\b\b\b\b\b\b\b\b\b\b\b\b\b\b\b\b\b\b\b\b\b\b\b\b\b\b\b\b\b\b\b\b\b\b\b\b\b\b\b\b\b\b\b\b\r2982/2982 [==============================] - 0s 116us/step\n",
      "acc: 87.22%, loss: 0.34\n",
      "Confusion matrix:\n[[2194  126]\n [ 255  407]]\nMarco F1:0.800640\nMicro F1:0.872233\nWeighted F1:0.867065\n11924    1\n11925    0\n11926    0\n11927    0\n11928    0\n11929    0\n11930    0\n11931    0\n11932    0\n11933    0\n11934    0\n11935    1\n11936    0\n11937    1\n11938    0\n11939    0\n11940    0\n11941    0\n11942    0\n11943    0\n11944    1\n11945    0\n11946    0\n11947    0\n11948    0\n11949    0\n11950    0\n11951    0\n11952    0\n11953    0\n        ..\n14876    1\n14877    0\n14878    1\n14879    0\n14880    0\n14881    0\n14882    1\n14883    0\n14884    0\n14885    0\n14886    1\n14887    1\n14888    0\n14889    0\n14890    0\n14891    0\n14892    0\n14893    0\n14894    0\n14895    0\n14896    1\n14897    0\n14898    0\n14899    0\n14900    0\n14901    0\n14902    0\n14903    0\n14904    1\n14905    0\nName: label, Length: 2982, dtype: int64 [1 0 0 ... 0 0 0]\n\n Evaluation of model trained from scratch:\n",
      "\r  32/2982 [..............................] - ETA: 6s",
      "\b\b\b\b\b\b\b\b\b\b\b\b\b\b\b\b\b\b\b\b\b\b\b\b\b\b\b\b\b\b\b\b\b\b\b\b\b\b\b\b\b\b\b\b\b\b\b\b\b\b\b\b\r1152/2982 [==========>...................] - ETA: 0s",
      "\b\b\b\b\b\b\b\b\b\b\b\b\b\b\b\b\b\b\b\b\b\b\b\b\b\b\b\b\b\b\b\b\b\b\b\b\b\b\b\b\b\b\b\b\b\b\b\b\b\b\b\b\r1984/2982 [==================>...........] - ETA: 0s",
      "\b\b\b\b\b\b\b\b\b\b\b\b\b\b\b\b\b\b\b\b\b\b\b\b\b\b\b\b\b\b\b\b\b\b\b\b\b\b\b\b\b\b\b\b\b\b\b\b\b\b\b\b\r2560/2982 [========================>.....] - ETA: 0s",
      "\b\b\b\b\b\b\b\b\b\b\b\b\b\b\b\b\b\b\b\b\b\b\b\b\b\b\b\b\b\b\b\b\b\b\b\b\b\b\b\b\b\b\b\b\b\b\b\b\b\b\b\b\r2982/2982 [==============================] - 0s 83us/step\n",
      "acc: 88.46%, loss: 0.29\n",
      "Confusion matrix:\n[[2216  104]\n [ 240  422]]\nMarco F1:0.819205\n",
      "Micro F1:0.884641\nWeighted F1:0.879681\n11924    1\n11925    0\n11926    0\n11927    0\n11928    0\n11929    0\n11930    0\n11931    0\n11932    0\n11933    0\n11934    0\n11935    1\n11936    0\n11937    1\n11938    0\n11939    0\n11940    0\n11941    0\n11942    0\n11943    0\n11944    1\n11945    0\n11946    0\n11947    0\n11948    0\n11949    0\n11950    0\n11951    0\n11952    0\n11953    0\n        ..\n14876    1\n14877    0\n14878    1\n14879    0\n14880    0\n14881    0\n14882    1\n14883    0\n14884    0\n14885    0\n14886    1\n14887    1\n14888    0\n14889    0\n14890    0\n14891    0\n14892    0\n14893    0\n14894    0\n14895    0\n14896    1\n14897    0\n14898    0\n14899    0\n14900    0\n14901    0\n14902    0\n14903    0\n14904    1\n14905    0\nName: label, Length: 2982, dtype: int64 [0 0 0 ... 0 0 0]\n"
     ],
     "output_type": "stream"
    }
   ],
   "source": [
    "import numpy as np\n",
    "from src.data.preprocess.dataturks.preprocess_translearn_hatespeech import create_NN_sets\n",
    "from src.evaluation.hatespeech.evaluation_translearn_hatespeech import evaluate_best_model\n",
    "from src.models.hatespeech.model_translearn_hatespeech import fine_tune_model\n",
    "\n",
    "np.random.seed(42)\n",
    "vocab_size = 10000\n",
    "path_to_target_data = \"../../data/external/hatespeech/clean_sexism_dataset.csv\"\n",
    "path_to_original_model = \"../../models/example_dataturks.h5\"\n",
    "path_to_fine_tuned_model = \"../../models/fine_tuned.h5\"\n",
    "path_to_fine_tuned_model2 = \"../../models/fine_tuned_last_layer.h5\"\n",
    "path_to_sexist_model = \"../../models/zeerak_model.h5\"\n",
    "\n",
    "datasets = create_NN_sets(path_to_target_data, vocab_size)\n",
    "# fine_tune_model(path_to_original_model, path_to_fine_tuned_model, datasets)\n",
    "print(\"\\n Evaluation of model with ALL layers fine-tuned:\")\n",
    "evaluate_best_model(path_to_fine_tuned_model, datasets[4], datasets[5], datasets[6], 10000)\n",
    "\n",
    "# fine_tune_model(path_to_original_model, path_to_fine_tuned_model2, datasets)\n",
    "print(\"\\n Evaluation of model with LAST layer fine-tuned:\")\n",
    "evaluate_best_model(path_to_fine_tuned_model2, datasets[4], datasets[5], datasets[6], 10000)\n",
    "\n",
    "# train_model(path_to_sexist_model, datasets, vocab_size)\n",
    "print(\"\\n Evaluation of model trained from scratch:\")\n",
    "evaluate_best_model(path_to_sexist_model, datasets[4], datasets[5], datasets[6], 10000)\n"
   ]
  }
 ],
 "metadata": {
  "language_info": {
   "codemirror_mode": {
    "name": "ipython",
    "version": 2
   },
   "file_extension": ".py",
   "mimetype": "text/x-python",
   "name": "python",
   "nbconvert_exporter": "python",
   "pygments_lexer": "ipython2",
   "version": "2.7.6"
  },
  "kernelspec": {
   "name": "pycharm-66275036",
   "language": "python",
   "display_name": "PyCharm (find-out)"
  },
  "pycharm": {
   "stem_cell": {
    "cell_type": "raw",
    "source": [],
    "metadata": {
     "collapsed": false
    }
   }
  }
 },
 "nbformat": 4,
 "nbformat_minor": 0
}
