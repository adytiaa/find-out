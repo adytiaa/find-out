{
 "cells": [
  {
   "cell_type": "code",
   "execution_count": null,
   "metadata": {
    "collapsed": true,
    "pycharm": {
     "is_executing": false
    }
   },
   "outputs": [],
   "source": [
    "from hyperopt import Trials, tpe \n",
    "from hyperas import optim\n",
    "import pandas as pd\n",
    "import keras \n",
    "import numpy as np\n",
    "import src.data.preprocess.dataturks.generate_nn_dataturks as preprocess\n",
    "\n",
    "\n",
    "import src.utils.hyperparameter_tuning as tuning\n",
    "                          \n",
    "\n",
    "best_run, best_model = optim.minimize(model=tuning.create_model,\n",
    "                                          data=tuning.data,\n",
    "                                          algo=tpe.suggest,\n",
    "                                          max_evals=15,\n",
    "                                          trials=Trials(), notebook_name='hyperparameter_dataturks')\n",
    "X_train, Y_train, X_test, Y_test = tuning.data()\n",
    "print(\"Evalutation of best performing model:\")\n",
    "print(best_model.evaluate(X_test, Y_test))\n",
    "print(\"Best performing model chosen hyper-parameters:\")\n",
    "print(best_run)\n"
   ]
  }
 ],
 "metadata": {
  "language_info": {
   "codemirror_mode": {
    "name": "ipython",
    "version": 2
   },
   "file_extension": ".py",
   "mimetype": "text/x-python",
   "name": "python",
   "nbconvert_exporter": "python",
   "pygments_lexer": "ipython2",
   "version": "2.7.6"
  },
  "kernelspec": {
   "name": "pycharm-66275036",
   "language": "python",
   "display_name": "PyCharm (find-out)"
  },
  "pycharm": {
   "stem_cell": {
    "cell_type": "raw",
    "source": [],
    "metadata": {
     "collapsed": false
    }
   }
  }
 },
 "nbformat": 4,
 "nbformat_minor": 0
}
